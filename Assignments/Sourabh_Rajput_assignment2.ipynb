{
 "cells": [
  {
   "cell_type": "code",
   "execution_count": 1,
   "metadata": {},
   "outputs": [
    {
     "name": "stdout",
     "output_type": "stream",
     "text": [
      "[[6 2 0]\n",
      " [3 4 5]\n",
      " [6 0 7]\n",
      " [5 6 4]]\n",
      "      mpg  cylinders  displacement horsepower  weight  acceleration  model  \\\n",
      "164  20.0          8           262        110    3221          13.5     75   \n",
      "0    18.0          8           307        130    3504          12.0     70   \n",
      "2    18.0          8           318        150    3436          11.0     70   \n",
      "\n",
      "     origin                        car  \n",
      "164       1        chevrolet monza 2+2  \n",
      "0         1  chevrolet chevelle malibu  \n",
      "2         1         plymouth satellite  \n",
      "                      mean  amin  amax\n",
      "cylinders brand                       \n",
      "4         ford   17.250000  16.0  19.0\n",
      "          honda  16.250000  15.0  17.5\n",
      "6         buick  18.000000  15.0  21.0\n",
      "          ford   16.387500  14.5  19.5\n",
      "8         buick  12.250000  10.0  14.5\n",
      "          ford   13.153333  10.0  16.0\n",
      "cylinders      3          4          6          8\n",
      "brand                                            \n",
      "amc          NaN        NaN  18.576923  14.937500\n",
      "audi         NaN  24.000000        NaN        NaN\n",
      "bmw          NaN  26.000000        NaN        NaN\n",
      "buick        NaN        NaN  19.000000  13.333333\n",
      "capri        NaN  25.000000        NaN        NaN\n",
      "chevrolet    NaN  24.214286  17.142857  14.730769\n",
      "chevy        NaN        NaN        NaN  10.000000\n",
      "chrysler     NaN        NaN        NaN  13.000000\n",
      "datsun       NaN  28.250000        NaN        NaN\n",
      "dodge        NaN  26.750000        NaN  14.000000\n",
      "fiat         NaN  27.714286        NaN        NaN\n",
      "ford         NaN  22.666667  19.250000  13.766667\n",
      "honda        NaN  28.500000        NaN        NaN\n",
      "mazda       18.5        NaN        NaN        NaN\n",
      "mercury      NaN  23.000000  18.000000  11.500000\n",
      "oldsmobile   NaN        NaN        NaN  11.666667\n",
      "opel         NaN  25.750000        NaN        NaN\n",
      "peugeot      NaN  24.750000        NaN        NaN\n",
      "plymouth     NaN  26.000000  19.555556  14.666667\n",
      "pontiac      NaN  23.000000  19.000000  14.500000\n",
      "renault      NaN  26.500000        NaN        NaN\n",
      "saab         NaN  24.666667        NaN        NaN\n",
      "subaru       NaN  26.000000        NaN        NaN\n",
      "toyota       NaN  26.363636  20.000000        NaN\n",
      "volkswagen   NaN  25.500000        NaN        NaN\n",
      "volvo        NaN  19.666667        NaN        NaN\n"
     ]
    }
   ],
   "source": [
    "import numpy as np\n",
    "import pandas as pd\n",
    "import csv\n",
    "\n",
    "def analyze_tf(arr): \n",
    "    \n",
    "    tf_idf=None\n",
    "    \n",
    "    a1=np.sum(arr,axis=1) \n",
    "    tf= np.divide(arr.T,a1)     \n",
    "    a2=np.where(tf.T>0,1,0)\n",
    "    df=np.sum(a2,axis=0) \n",
    "    tf_idf=tf.T/df     \n",
    "    f=np.argsort(tf_idf)\n",
    "    print(f[:,-3:]) \n",
    "    return tf_idf\n",
    "\n",
    "def analyze_cars():\n",
    "    \n",
    "    ReadFile=pd.read_csv('cars.csv')\n",
    "    \n",
    "    df=ReadFile.sort_values(by=['cylinders','mpg'],ascending=False) \n",
    "    tf=df.head(3) \n",
    "    print(tf)\n",
    "    \n",
    "    df['brand']=df.apply(lambda row:row[\"car\"].split(' ')[0], axis=1) \n",
    "    \n",
    "    tf=df[df.brand.isin(['ford','buick','honda'])].groupby([\"cylinders\",\"brand\"]) \n",
    "    tf1=tf['acceleration'].agg([np.mean, np.min, np.max])\n",
    "    print(tf1)\n",
    "    \n",
    "    idf=pd.crosstab(index=df.brand,columns=df.cylinders, values=df.mpg,aggfunc=np.mean)\n",
    "    print(idf)\n",
    "    \n",
    "\n",
    "if __name__ == \"__main__\":  \n",
    "    \n",
    "    #1 Test Question 1\n",
    "    arr=np.random.randint(0,3,(4,8))\n",
    "\n",
    "    tf_idf=analyze_tf(arr)\n",
    "    \n",
    "   # Test Question 2\n",
    "    analyze_cars()"
   ]
  },
  {
   "cell_type": "code",
   "execution_count": null,
   "metadata": {
    "collapsed": true
   },
   "outputs": [],
   "source": []
  },
  {
   "cell_type": "code",
   "execution_count": null,
   "metadata": {
    "collapsed": true
   },
   "outputs": [],
   "source": []
  },
  {
   "cell_type": "code",
   "execution_count": null,
   "metadata": {
    "collapsed": true
   },
   "outputs": [],
   "source": []
  }
 ],
 "metadata": {
  "kernelspec": {
   "display_name": "Python 3",
   "language": "python",
   "name": "python3"
  },
  "language_info": {
   "codemirror_mode": {
    "name": "ipython",
    "version": 3
   },
   "file_extension": ".py",
   "mimetype": "text/x-python",
   "name": "python",
   "nbconvert_exporter": "python",
   "pygments_lexer": "ipython3",
   "version": "3.6.4"
  }
 },
 "nbformat": 4,
 "nbformat_minor": 2
}
