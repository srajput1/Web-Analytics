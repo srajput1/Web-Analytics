{
 "cells": [
  {
   "cell_type": "code",
   "execution_count": 1,
   "metadata": {},
   "outputs": [
    {
     "name": "stdout",
     "output_type": "stream",
     "text": [
      "FB\n",
      "FB\n"
     ]
    },
    {
     "name": "stderr",
     "output_type": "stream",
     "text": [
      "C:\\Users\\shrey\\Anaconda3\\lib\\site-packages\\pandas_datareader\\google\\daily.py:40: UnstableAPIWarning: \n",
      "The Google Finance API has not been stable since late 2017. Requests seem\n",
      "to fail at random. Failure is especially common when bulk downloading.\n",
      "\n",
      "  warnings.warn(UNSTABLE_WARNING, UnstableAPIWarning)\n"
     ]
    },
    {
     "name": "stdout",
     "output_type": "stream",
     "text": [
      "BAC\n",
      "BAC\n",
      "BA\n",
      "BA\n",
      "AMZN\n",
      "AMZN\n",
      "GOOGL\n",
      "GOOGL\n",
      "AAPL\n",
      "AAPL\n",
      "JPM\n",
      "JPM\n",
      "NFLX\n",
      "NFLX\n",
      "AABA\n",
      "AABA\n",
      "MSFT\n",
      "MSFT\n"
     ]
    }
   ],
   "source": [
    "import matplotlib.pyplot as plt\n",
    "from pandas_datareader.data import DataReader\n",
    "# date time to use date objects\n",
    "from datetime import date\n",
    "import pandas as pd\n",
    "\n",
    "\n",
    "\n",
    "def stockdata(stocksymbol):\n",
    "        \n",
    "    print(stocksymbol)\n",
    "    start = date(2018, 1, 10) #yyyymmdd\n",
    "    end = date(2018, 3, 15)\n",
    "    #output_file=\"C:/Users/shrey/OneDrive/Desktop/seaktop/660 Web/Project/stock_raw_data/\"+stocksymbol+\".csv\"\n",
    "    stock = DataReader(stocksymbol, 'google', start, end)\n",
    "    my_df = pd.DataFrame(stock)\n",
    "    my_df.to_csv(\"C:/Users/shrey/OneDrive/Desktop/seaktop/660 Web/Project/\"+stocksymbol+\"_stock.csv\")\n",
    "\n",
    "    return stock    \n",
    "        \n",
    "if __name__ == \"__main__\": \n",
    "    List_stock_symbol = [\"FB\",\"BAC\",\"BA\",\"AMZN\",\"GOOGL\",\"AAPL\", \"JPM\",\"NFLX\", \"AABA\",\"MSFT\"]\n",
    "    for symbol in List_stock_symbol:\n",
    "        print (symbol)\n",
    "        stockdata(symbol)\n",
    "        \n",
    "    "
   ]
  }
 ],
 "metadata": {
  "kernelspec": {
   "display_name": "Python 3",
   "language": "python",
   "name": "python3"
  },
  "language_info": {
   "codemirror_mode": {
    "name": "ipython",
    "version": 3
   },
   "file_extension": ".py",
   "mimetype": "text/x-python",
   "name": "python",
   "nbconvert_exporter": "python",
   "pygments_lexer": "ipython3",
   "version": "3.6.4"
  }
 },
 "nbformat": 4,
 "nbformat_minor": 2
}
